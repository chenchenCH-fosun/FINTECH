{
 "cells": [
  {
   "cell_type": "code",
   "execution_count": 4,
   "metadata": {
    "collapsed": true,
    "scrolled": true
   },
   "outputs": [],
   "source": [
    "import os\n",
    "import pandas as pd\n",
    "import re\n",
    "\n",
    "####文件夹明细查询######\n",
    "def save_to_excel(df,excel_path):\n",
    "    df.to_excel(excel_path,index=False)\n",
    "    \n",
    "def stat_files_detail(path):\n",
    "    test1=[]\n",
    "    for root, dirs, files in os.walk(path):\n",
    "    ##从根目录开始找，先判断\n",
    "        if root==path:\n",
    "            continue\n",
    "        test1.append([os.path.split(root)[-1],len(files),','.join(files)])\n",
    "    datatest=pd.DataFrame(test1,columns=['合同','文件数','文件名'])\n",
    "    return datatest\n",
    "\n",
    "def stat():\n",
    "    df=stat_files_detail(input('请输入需要统计的文件路径：'))\n",
    "    filename=input('请输入要生成的文件名：')+'.xlsx'\n",
    "    path=input('请输入项要存放的目录:')\n",
    "    excel_path=os.path.join(path,filename)\n",
    "    save_to_excel(df,excel_path)\n",
    "    print(\"\\n请到 %s 路径下查看 '%s'\"%(path,filename))# df.to_excel(\"E:/256合同文件明细.xlsx\", index=False)"
   ]
  },
  {
   "cell_type": "code",
   "execution_count": 5,
   "metadata": {},
   "outputs": [],
   "source": [
    "#这里可以不用保存直接提前查看\n",
    "# dir_path='这里输入需要查看的文件夹路径'\n",
    "# stat_files_detail(dir_path)"
   ]
  },
  {
   "cell_type": "code",
   "execution_count": 12,
   "metadata": {},
   "outputs": [],
   "source": [
    "stat()"
   ]
  },
  {
   "cell_type": "code",
   "execution_count": 14,
   "metadata": {},
   "outputs": [],
   "source": [
    "#过滤输出文件夹下面的不同类型文件，除开os外的另一种方法\n",
    "# import glob \n",
    "# rarls=[]\n",
    "# for filename in glob.glob('D:\\创富新资料\\招行合同材料\\不含发票\\*.rar'): \n",
    "#     print(filename)"
   ]
  },
  {
   "cell_type": "code",
   "execution_count": null,
   "metadata": {
    "collapsed": true
   },
   "outputs": [],
   "source": [
    "# ########打包合同和文件夹筛选，针对不同文件############\n",
    "\n",
    "rarls=[] #压缩包文件名\n",
    "filels=[]#文件夹文件名\n",
    "\n",
    "for item in list:\n",
    "    if item.endswith('.zip'):\n",
    "        item=item.strip('.zip')\n",
    "        rarls.append(item)\n",
    "    else:\n",
    "        filels.append(item)\n",
    "orginls=[]\n",
    "for line in open(\"contractnum.txt\"):  \n",
    "    orginls.append(line.strip('\\n'))      \n",
    "    "
   ]
  },
  {
   "cell_type": "code",
   "execution_count": null,
   "metadata": {
    "collapsed": true
   },
   "outputs": [],
   "source": [
    "len(orginls)"
   ]
  },
  {
   "cell_type": "code",
   "execution_count": 23,
   "metadata": {},
   "outputs": [],
   "source": [
    "# 参考\n",
    "# df = pd.concat([pd.DataFrame({'a': a}), pd.DataFrame({'b':b}), pd.DataFrame({'c':c})], axis=1)\n",
    "# df.fillna(0)\n",
    "\n",
    "# spdata=pd.concat([pd.DataFrame({'压缩件':rarls}),pd.DataFrame({'文件夹':filels})])\n",
    "# spdata.to_excel('大众压缩件解压件详情.xlsx',index=False)\n"
   ]
  },
  {
   "cell_type": "code",
   "execution_count": 25,
   "metadata": {},
   "outputs": [
    {
     "data": {
      "text/plain": [
       "['CON200800947']"
      ]
     },
     "execution_count": 25,
     "metadata": {},
     "output_type": "execute_result"
    }
   ],
   "source": [
    "# # spdata\n",
    "# c = [x for x in list1 if x not in list2]  #在list1列表中而不在list2列表中\n",
    "rarls=os.listdir('E:\\大众合同及发票256（解压）')\n",
    "\n",
    "filels=os.listdir('E:\\大众_发票及产证256')\n",
    "lack1=[x for x in filels if x not in rarls]\n",
    "lack1"
   ]
  },
  {
   "cell_type": "code",
   "execution_count": 33,
   "metadata": {
    "collapsed": true
   },
   "outputs": [],
   "source": [
    "# orginls（原来的文件名）"
   ]
  },
  {
   "cell_type": "code",
   "execution_count": 13,
   "metadata": {
    "collapsed": true
   },
   "outputs": [],
   "source": [
    "# orginls\n",
    "rarls=[re. search(\"(CON.+)-\\d+\", i). group(1) for i in rarls]\n",
    "lack2=[x for x in orginls if x not in rarls]\n",
    "lack2"
   ]
  },
  {
   "cell_type": "code",
   "execution_count": null,
   "metadata": {
    "collapsed": true
   },
   "outputs": [],
   "source": []
  }
 ],
 "metadata": {
  "kernelspec": {
   "display_name": "Python 3",
   "language": "python",
   "name": "python3"
  },
  "language_info": {
   "codemirror_mode": {
    "name": "ipython",
    "version": 3
   },
   "file_extension": ".py",
   "mimetype": "text/x-python",
   "name": "python",
   "nbconvert_exporter": "python",
   "pygments_lexer": "ipython3",
   "version": "3.6.1"
  }
 },
 "nbformat": 4,
 "nbformat_minor": 2
}
