{
 "cells": [
  {
   "cell_type": "code",
   "execution_count": 1,
   "metadata": {
    "collapsed": true
   },
   "outputs": [],
   "source": [
    "\n",
    "# import os, sys\n",
    "# import re\n",
    "# path1 = 'C:/Users/yechenchen/Desktop/renametest'  #所需修改文件夹所在路径\n",
    "# dirs = os.listdir(path1)\n"
   ]
  },
  {
   "cell_type": "code",
   "execution_count": 2,
   "metadata": {
    "collapsed": true
   },
   "outputs": [],
   "source": [
    "# i = 0\n",
    "# for dir in dirs:\n",
    "#     os.rename(str(dir), str(re. search(\"(CON.+)-\\d+\", dir).group(1)))\n",
    "#     i = i + 1\n",
    "\n",
    "# # 打印出重命名后的目录\n",
    "\n",
    "# print(\"目录为: %s\" %os.listdir(os.getcwd()))"
   ]
  },
  {
   "cell_type": "code",
   "execution_count": 1,
   "metadata": {},
   "outputs": [],
   "source": [
    "import os\n",
    "import re\n",
    "import sys\n",
    "\n",
    "\n",
    "def renamefile(path):\n",
    "    count=1\n",
    "    for dirp in os.listdir(path):\n",
    "        r = re.search(\"(CON.+)-\\d+\", dirp)\n",
    "        if r is not None:\n",
    "            new = r.group(1)\n",
    "            print(count,\"%s -> %s\" % (dirp, new))\n",
    "            os.rename(path + dirp, path + new)\n",
    "        else:\n",
    "            print(count,\"%s 未变\" % (dirp, ))\n",
    "        count +=1    "
   ]
  },
  {
   "cell_type": "code",
   "execution_count": null,
   "metadata": {},
   "outputs": [],
   "source": [
    "\n",
    "path =input (r\"请输入文件夹路径  \")\n",
    "\n",
    "# renamefile(path)\n",
    "\n"
   ]
  },
  {
   "cell_type": "code",
   "execution_count": null,
   "metadata": {},
   "outputs": [],
   "source": [
    " renamefile(path)"
   ]
  },
  {
   "cell_type": "code",
   "execution_count": null,
   "metadata": {
    "collapsed": true
   },
   "outputs": [],
   "source": []
  }
 ],
 "metadata": {
  "kernelspec": {
   "display_name": "Python 3",
   "language": "python",
   "name": "python3"
  },
  "language_info": {
   "codemirror_mode": {
    "name": "ipython",
    "version": 3
   },
   "file_extension": ".py",
   "mimetype": "text/x-python",
   "name": "python",
   "nbconvert_exporter": "python",
   "pygments_lexer": "ipython3",
   "version": "3.6.1"
  }
 },
 "nbformat": 4,
 "nbformat_minor": 2
}
