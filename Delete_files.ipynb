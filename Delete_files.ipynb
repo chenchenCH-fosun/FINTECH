{
 "cells": [
  {
   "cell_type": "code",
   "execution_count": 3,
   "metadata": {
    "collapsed": true
   },
   "outputs": [],
   "source": [
    "import os\n",
    "\n",
    "def del_files(path,dels):\n",
    "    for root, dirs, files in os.walk(path):\n",
    "            for name in files:\n",
    "                for j in dels:                    \n",
    "                    if name.find(j)>=0:\n",
    "                        print (\"Delete File: \" , os.path.split(root)[-1],' ',name)\n",
    "                        os.remove(os.path.join(root, name))                        \n",
    "\n",
    "        \n",
    "#     for root , dirs, files in os.walk(path):\n",
    "#         for name in files:\n",
    "    \n",
    "#             if name.endswith(\".png\"):\n",
    "#                 os.remove(os.path.join(root, name))\n",
    "#                 print (\"Delete File: \" + os.path.join(root, name))\n"
   ]
  },
  {
   "cell_type": "code",
   "execution_count": 4,
   "metadata": {},
   "outputs": [],
   "source": [
    "                \n",
    "if __name__=='__main__':\n",
    "    \n",
    "    path=r'C:\\Users\\Xin Chen\\Desktop\\test\\contract_dl\\contracts'#此为需要删除的路径\n",
    "    dels = (\n",
    "    \"行驶\",\n",
    "    \".+?险\",\n",
    "    \"钥匙\",\n",
    "    \"保单\",\n",
    "    \"交强\",\n",
    "    \"商业\",\n",
    "    \"受益人\",\n",
    "    \"行车证\",\n",
    "    \"交保\",      \n",
    "    \"车证\",\n",
    "    \"交保\",\n",
    "    \"批单\",\n",
    "    \"身份\",\n",
    "    \"保交\",\n",
    "    \"保商\",\n",
    "    \"运输\",\n",
    "    \"营运\",)\n",
    "    del_files(path,dels)#调用函数"
   ]
  },
  {
   "cell_type": "code",
   "execution_count": 5,
   "metadata": {},
   "outputs": [],
   "source": []
  },
  {
   "cell_type": "code",
   "execution_count": null,
   "metadata": {
    "collapsed": true
   },
   "outputs": [],
   "source": []
  }
 ],
 "metadata": {
  "kernelspec": {
   "display_name": "Python 3",
   "language": "python",
   "name": "python3"
  },
  "language_info": {
   "codemirror_mode": {
    "name": "ipython",
    "version": 3
   },
   "file_extension": ".py",
   "mimetype": "text/x-python",
   "name": "python",
   "nbconvert_exporter": "python",
   "pygments_lexer": "ipython3",
   "version": "3.6.1"
  }
 },
 "nbformat": 4,
 "nbformat_minor": 2
}
